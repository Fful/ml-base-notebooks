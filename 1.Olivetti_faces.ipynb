{
 "cells": [
  {
   "cell_type": "markdown",
   "source": [
    "1. The classic Olivetti faces dataset contains 400 grayscale 64 × 64–pixel images of faces. Each image is\n",
    "flattened to a 1D vector of size 4,096. Forty different people were photographed (10 times each), and\n",
    "the usual task is to train a model that can predict which person is represented in each picture.\n",
    "\n",
    "---\n",
    "\n",
    " - Load the dataset using the sklearn.datasets.fetch_olivetti_faces() function\n",
    " - Split it into a\n",
    "training set, a validation set, and a test set (note that the dataset is already scaled between 0 and 1).\n",
    "Since the dataset is quite small, you will probably want to use stratified sampling to ensure that there\n",
    "are the same number of images per person in each set.\n",
    " - Next, cluster the images using k-means, and\n",
    "ensure that you have a good number of clusters (using one of the techniques discussed in this\n",
    "chapter).\n",
    " - Visualize the clusters: do you see similar faces in each cluster?"
   ],
   "metadata": {
    "collapsed": false
   }
  },
  {
   "cell_type": "code",
   "execution_count": 2,
   "metadata": {
    "collapsed": true
   },
   "outputs": [],
   "source": [
    "import sklearn\n",
    "\n",
    "import numpy as np\n",
    "import pandas as pd\n",
    "import matplotlib.pyplot as plt"
   ]
  },
  {
   "cell_type": "code",
   "execution_count": 3,
   "outputs": [],
   "source": [
    "from packaging import version\n",
    "import sys\n",
    "\n",
    "assert version.parse(sklearn.__version__) >= version.parse(\"1.0.1\")\n",
    "assert sys.version_info >= (3, 7)"
   ],
   "metadata": {
    "collapsed": false
   }
  },
  {
   "cell_type": "code",
   "execution_count": 4,
   "outputs": [],
   "source": [
    "from sklearn.datasets import fetch_olivetti_faces\n",
    "\n",
    "olivetti = fetch_olivetti_faces()"
   ],
   "metadata": {
    "collapsed": false
   }
  },
  {
   "cell_type": "code",
   "execution_count": null,
   "outputs": [],
   "source": [],
   "metadata": {
    "collapsed": false
   }
  }
 ],
 "metadata": {
  "kernelspec": {
   "display_name": "Python 3",
   "language": "python",
   "name": "python3"
  },
  "language_info": {
   "codemirror_mode": {
    "name": "ipython",
    "version": 2
   },
   "file_extension": ".py",
   "mimetype": "text/x-python",
   "name": "python",
   "nbconvert_exporter": "python",
   "pygments_lexer": "ipython2",
   "version": "2.7.6"
  }
 },
 "nbformat": 4,
 "nbformat_minor": 0
}
